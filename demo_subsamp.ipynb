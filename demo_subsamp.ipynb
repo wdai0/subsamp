{
  "nbformat": 4,
  "nbformat_minor": 0,
  "metadata": {
    "colab": {
      "provenance": [],
      "authorship_tag": "ABX9TyPBLDHKksp0s9qJfVNxZGcr",
      "include_colab_link": true
    },
    "kernelspec": {
      "name": "python3",
      "display_name": "Python 3"
    },
    "language_info": {
      "name": "python"
    }
  },
  "cells": [
    {
      "cell_type": "markdown",
      "metadata": {
        "id": "view-in-github",
        "colab_type": "text"
      },
      "source": [
        "<a href=\"https://colab.research.google.com/github/wdai0/subsamp/blob/main/demo_subsamp.ipynb\" target=\"_parent\"><img src=\"https://colab.research.google.com/assets/colab-badge.svg\" alt=\"Open In Colab\"/></a>"
      ]
    },
    {
      "cell_type": "markdown",
      "source": [
        "# Package: subsampwinner"
      ],
      "metadata": {
        "id": "2NW-KMf0GlkD"
      }
    },
    {
      "cell_type": "code",
      "source": [
        "!pip list | grep subsampwinner"
      ],
      "metadata": {
        "colab": {
          "base_uri": "https://localhost:8080/"
        },
        "id": "A9zay657H03y",
        "outputId": "91ad85f7-17ed-400d-9ff0-b4599c339489"
      },
      "execution_count": null,
      "outputs": [
        {
          "output_type": "stream",
          "name": "stdout",
          "text": [
            "subsampwinner                    0.0.6\n"
          ]
        }
      ]
    },
    {
      "cell_type": "code",
      "source": [
        "# uninstall and reinstall subsampwinner\n",
        "!pip uninstall subsampwinner\n",
        "!pip install subsampwinner"
      ],
      "metadata": {
        "id": "7f4iIY6BTGcz",
        "outputId": "886cc1f3-3f6b-479c-e796-46a588bb22dd",
        "colab": {
          "base_uri": "https://localhost:8080/"
        }
      },
      "execution_count": 2,
      "outputs": [
        {
          "output_type": "stream",
          "name": "stdout",
          "text": [
            "\u001b[33mWARNING: Skipping subsampwinner as it is not installed.\u001b[0m\u001b[33m\n",
            "\u001b[0mCollecting subsampwinner\n",
            "  Downloading subsampwinner-0.0.6-py3-none-any.whl.metadata (2.4 kB)\n",
            "Requirement already satisfied: numpy>=1.26.4 in /usr/local/lib/python3.10/dist-packages (from subsampwinner) (1.26.4)\n",
            "Requirement already satisfied: scipy>=1.13.0 in /usr/local/lib/python3.10/dist-packages (from subsampwinner) (1.13.1)\n",
            "Requirement already satisfied: statsmodels>=0.14.2 in /usr/local/lib/python3.10/dist-packages (from subsampwinner) (0.14.4)\n",
            "Collecting mpi4py>=3.1.6 (from subsampwinner)\n",
            "  Downloading mpi4py-4.0.0.tar.gz (464 kB)\n",
            "\u001b[2K     \u001b[90m━━━━━━━━━━━━━━━━━━━━━━━━━━━━━━━━━━━━━━━━\u001b[0m \u001b[32m464.8/464.8 kB\u001b[0m \u001b[31m9.7 MB/s\u001b[0m eta \u001b[36m0:00:00\u001b[0m\n",
            "\u001b[?25h  Installing build dependencies ... \u001b[?25l\u001b[?25hdone\n",
            "  Getting requirements to build wheel ... \u001b[?25l\u001b[?25hdone\n",
            "  Installing backend dependencies ... \u001b[?25l\u001b[?25hdone\n",
            "  Preparing metadata (pyproject.toml) ... \u001b[?25l\u001b[?25hdone\n",
            "Requirement already satisfied: pandas!=2.1.0,>=1.4 in /usr/local/lib/python3.10/dist-packages (from statsmodels>=0.14.2->subsampwinner) (2.2.2)\n",
            "Requirement already satisfied: patsy>=0.5.6 in /usr/local/lib/python3.10/dist-packages (from statsmodels>=0.14.2->subsampwinner) (0.5.6)\n",
            "Requirement already satisfied: packaging>=21.3 in /usr/local/lib/python3.10/dist-packages (from statsmodels>=0.14.2->subsampwinner) (24.1)\n",
            "Requirement already satisfied: python-dateutil>=2.8.2 in /usr/local/lib/python3.10/dist-packages (from pandas!=2.1.0,>=1.4->statsmodels>=0.14.2->subsampwinner) (2.8.2)\n",
            "Requirement already satisfied: pytz>=2020.1 in /usr/local/lib/python3.10/dist-packages (from pandas!=2.1.0,>=1.4->statsmodels>=0.14.2->subsampwinner) (2024.2)\n",
            "Requirement already satisfied: tzdata>=2022.7 in /usr/local/lib/python3.10/dist-packages (from pandas!=2.1.0,>=1.4->statsmodels>=0.14.2->subsampwinner) (2024.2)\n",
            "Requirement already satisfied: six in /usr/local/lib/python3.10/dist-packages (from patsy>=0.5.6->statsmodels>=0.14.2->subsampwinner) (1.16.0)\n",
            "Downloading subsampwinner-0.0.6-py3-none-any.whl (10 kB)\n",
            "Building wheels for collected packages: mpi4py\n",
            "  Building wheel for mpi4py (pyproject.toml) ... \u001b[?25l\u001b[?25hdone\n",
            "  Created wheel for mpi4py: filename=mpi4py-4.0.0-cp310-cp310-linux_x86_64.whl size=4266256 sha256=900c4f4f6112986949fa64aa60553f0896d00537e4d70ddca57ca8cab6d0bf56\n",
            "  Stored in directory: /root/.cache/pip/wheels/96/17/12/83db63ee0ae5c4b040ee87f2e5c813aea4728b55ec6a37317c\n",
            "Successfully built mpi4py\n",
            "Installing collected packages: mpi4py, subsampwinner\n",
            "Successfully installed mpi4py-4.0.0 subsampwinner-0.0.6\n"
          ]
        }
      ]
    },
    {
      "cell_type": "code",
      "source": [
        "import subsampwinner"
      ],
      "metadata": {
        "id": "_152VCVPTOXL"
      },
      "execution_count": 3,
      "outputs": []
    },
    {
      "cell_type": "code",
      "source": [
        "import numpy as np\n",
        "from subsampwinner.subsamp import subsamp\n",
        "from subsampwinner.SubsampDoubleAssurance import SubsampDoubleAssurance\n",
        "from subsampwinner.GenerateData import generate_heteroskedastic_data\n",
        "\n",
        "# Generate sample data\n",
        "n, p = 80, 100\n",
        "beta0 = np.array([0.5, 1, 1.5, 2, 2.5, 3, 3.5, 4, 4.5, 5])\n",
        "beta0_index = np.arange(len(beta0))\n",
        "beta = np.zeros(p)\n",
        "beta[beta0_index] = beta0\n",
        "gamma = np.zeros(p)\n",
        "\n",
        "X, y, _, _ = generate_heteroskedastic_data(n, p, hetero_func=lambda x: 1.2,\n",
        "    beta=beta, gamma=gamma, type='diagonal')\n",
        "\n",
        "# Initialize and run SWA\n",
        "swa = subsamp(s=25, m=1000, qnum=15)\n",
        "swa.fit(X, y)"
      ],
      "metadata": {
        "id": "Gq7fbUB7G1P0",
        "colab": {
          "base_uri": "https://localhost:8080/"
        },
        "outputId": "38a7066a-6a89-44d7-e9ce-98993d13b23b"
      },
      "execution_count": 17,
      "outputs": [
        {
          "output_type": "stream",
          "name": "stdout",
          "text": [
            "Selected features: [10, 7, 9, 8, 6, 5, 4, 3]\n"
          ]
        }
      ]
    },
    {
      "cell_type": "code",
      "source": [
        "# selected variables\n",
        "selected_features = [selected_var + 1 for selected_var in swa.finalists]\n",
        "\n",
        "print(\"Selected features:\", selected_features)"
      ],
      "metadata": {
        "id": "zyCsGnE0ExmE"
      },
      "execution_count": null,
      "outputs": []
    },
    {
      "cell_type": "code",
      "source": [
        "# A summary of selected features\n",
        "swa.final_model.summary()"
      ],
      "metadata": {
        "id": "0svM19KCCdgW",
        "outputId": "997aab77-43ca-4971-fea1-a96810597330",
        "colab": {
          "base_uri": "https://localhost:8080/",
          "height": 738
        }
      },
      "execution_count": 18,
      "outputs": [
        {
          "output_type": "execute_result",
          "data": {
            "text/plain": [
              "<class 'statsmodels.iolib.summary.Summary'>\n",
              "\"\"\"\n",
              "                            OLS Regression Results                            \n",
              "==============================================================================\n",
              "Dep. Variable:                      y   R-squared:                       0.986\n",
              "Model:                            OLS   Adj. R-squared:                  0.982\n",
              "Method:                 Least Squares   F-statistic:                     293.7\n",
              "Date:                Mon, 07 Oct 2024   Prob (F-statistic):           5.90e-53\n",
              "Time:                        17:41:31   Log-Likelihood:                -128.83\n",
              "No. Observations:                  80   AIC:                             289.7\n",
              "Df Residuals:                      64   BIC:                             327.8\n",
              "Df Model:                          15                                         \n",
              "Covariance Type:            nonrobust                                         \n",
              "==============================================================================\n",
              "                 coef    std err          t      P>|t|      [0.025      0.975]\n",
              "------------------------------------------------------------------------------\n",
              "const          0.2421      0.162      1.495      0.140      -0.081       0.566\n",
              "v10            5.0883      0.182     28.009      0.000       4.725       5.451\n",
              "v7             3.5008      0.171     20.424      0.000       3.158       3.843\n",
              "v9             4.3660      0.165     26.512      0.000       4.037       4.695\n",
              "v8             4.0268      0.140     28.815      0.000       3.748       4.306\n",
              "v6             2.9034      0.183     15.860      0.000       2.538       3.269\n",
              "v24            0.3898      0.201      1.939      0.057      -0.012       0.791\n",
              "v5             2.2002      0.192     11.485      0.000       1.818       2.583\n",
              "v4             1.9252      0.187     10.299      0.000       1.552       2.299\n",
              "v42            0.1608      0.158      1.018      0.313      -0.155       0.476\n",
              "v3             1.6664      0.163     10.201      0.000       1.340       1.993\n",
              "v70            0.1470      0.178      0.824      0.413      -0.210       0.503\n",
              "v46           -0.3965      0.165     -2.406      0.019      -0.726      -0.067\n",
              "v61           -0.0417      0.165     -0.254      0.801      -0.371       0.287\n",
              "v36            0.3716      0.173      2.152      0.035       0.027       0.717\n",
              "v32            0.0489      0.179      0.273      0.786      -0.309       0.407\n",
              "==============================================================================\n",
              "Omnibus:                        0.108   Durbin-Watson:                   1.780\n",
              "Prob(Omnibus):                  0.947   Jarque-Bera (JB):                0.168\n",
              "Skew:                          -0.083   Prob(JB):                        0.920\n",
              "Kurtosis:                       2.850   Cond. No.                         2.55\n",
              "==============================================================================\n",
              "\n",
              "Notes:\n",
              "[1] Standard Errors assume that the covariance matrix of the errors is correctly specified.\n",
              "\"\"\""
            ],
            "text/html": [
              "<table class=\"simpletable\">\n",
              "<caption>OLS Regression Results</caption>\n",
              "<tr>\n",
              "  <th>Dep. Variable:</th>            <td>y</td>        <th>  R-squared:         </th> <td>   0.986</td>\n",
              "</tr>\n",
              "<tr>\n",
              "  <th>Model:</th>                   <td>OLS</td>       <th>  Adj. R-squared:    </th> <td>   0.982</td>\n",
              "</tr>\n",
              "<tr>\n",
              "  <th>Method:</th>             <td>Least Squares</td>  <th>  F-statistic:       </th> <td>   293.7</td>\n",
              "</tr>\n",
              "<tr>\n",
              "  <th>Date:</th>             <td>Mon, 07 Oct 2024</td> <th>  Prob (F-statistic):</th> <td>5.90e-53</td>\n",
              "</tr>\n",
              "<tr>\n",
              "  <th>Time:</th>                 <td>17:41:31</td>     <th>  Log-Likelihood:    </th> <td> -128.83</td>\n",
              "</tr>\n",
              "<tr>\n",
              "  <th>No. Observations:</th>      <td>    80</td>      <th>  AIC:               </th> <td>   289.7</td>\n",
              "</tr>\n",
              "<tr>\n",
              "  <th>Df Residuals:</th>          <td>    64</td>      <th>  BIC:               </th> <td>   327.8</td>\n",
              "</tr>\n",
              "<tr>\n",
              "  <th>Df Model:</th>              <td>    15</td>      <th>                     </th>     <td> </td>   \n",
              "</tr>\n",
              "<tr>\n",
              "  <th>Covariance Type:</th>      <td>nonrobust</td>    <th>                     </th>     <td> </td>   \n",
              "</tr>\n",
              "</table>\n",
              "<table class=\"simpletable\">\n",
              "<tr>\n",
              "    <td></td>       <th>coef</th>     <th>std err</th>      <th>t</th>      <th>P>|t|</th>  <th>[0.025</th>    <th>0.975]</th>  \n",
              "</tr>\n",
              "<tr>\n",
              "  <th>const</th> <td>    0.2421</td> <td>    0.162</td> <td>    1.495</td> <td> 0.140</td> <td>   -0.081</td> <td>    0.566</td>\n",
              "</tr>\n",
              "<tr>\n",
              "  <th>v10</th>   <td>    5.0883</td> <td>    0.182</td> <td>   28.009</td> <td> 0.000</td> <td>    4.725</td> <td>    5.451</td>\n",
              "</tr>\n",
              "<tr>\n",
              "  <th>v7</th>    <td>    3.5008</td> <td>    0.171</td> <td>   20.424</td> <td> 0.000</td> <td>    3.158</td> <td>    3.843</td>\n",
              "</tr>\n",
              "<tr>\n",
              "  <th>v9</th>    <td>    4.3660</td> <td>    0.165</td> <td>   26.512</td> <td> 0.000</td> <td>    4.037</td> <td>    4.695</td>\n",
              "</tr>\n",
              "<tr>\n",
              "  <th>v8</th>    <td>    4.0268</td> <td>    0.140</td> <td>   28.815</td> <td> 0.000</td> <td>    3.748</td> <td>    4.306</td>\n",
              "</tr>\n",
              "<tr>\n",
              "  <th>v6</th>    <td>    2.9034</td> <td>    0.183</td> <td>   15.860</td> <td> 0.000</td> <td>    2.538</td> <td>    3.269</td>\n",
              "</tr>\n",
              "<tr>\n",
              "  <th>v24</th>   <td>    0.3898</td> <td>    0.201</td> <td>    1.939</td> <td> 0.057</td> <td>   -0.012</td> <td>    0.791</td>\n",
              "</tr>\n",
              "<tr>\n",
              "  <th>v5</th>    <td>    2.2002</td> <td>    0.192</td> <td>   11.485</td> <td> 0.000</td> <td>    1.818</td> <td>    2.583</td>\n",
              "</tr>\n",
              "<tr>\n",
              "  <th>v4</th>    <td>    1.9252</td> <td>    0.187</td> <td>   10.299</td> <td> 0.000</td> <td>    1.552</td> <td>    2.299</td>\n",
              "</tr>\n",
              "<tr>\n",
              "  <th>v42</th>   <td>    0.1608</td> <td>    0.158</td> <td>    1.018</td> <td> 0.313</td> <td>   -0.155</td> <td>    0.476</td>\n",
              "</tr>\n",
              "<tr>\n",
              "  <th>v3</th>    <td>    1.6664</td> <td>    0.163</td> <td>   10.201</td> <td> 0.000</td> <td>    1.340</td> <td>    1.993</td>\n",
              "</tr>\n",
              "<tr>\n",
              "  <th>v70</th>   <td>    0.1470</td> <td>    0.178</td> <td>    0.824</td> <td> 0.413</td> <td>   -0.210</td> <td>    0.503</td>\n",
              "</tr>\n",
              "<tr>\n",
              "  <th>v46</th>   <td>   -0.3965</td> <td>    0.165</td> <td>   -2.406</td> <td> 0.019</td> <td>   -0.726</td> <td>   -0.067</td>\n",
              "</tr>\n",
              "<tr>\n",
              "  <th>v61</th>   <td>   -0.0417</td> <td>    0.165</td> <td>   -0.254</td> <td> 0.801</td> <td>   -0.371</td> <td>    0.287</td>\n",
              "</tr>\n",
              "<tr>\n",
              "  <th>v36</th>   <td>    0.3716</td> <td>    0.173</td> <td>    2.152</td> <td> 0.035</td> <td>    0.027</td> <td>    0.717</td>\n",
              "</tr>\n",
              "<tr>\n",
              "  <th>v32</th>   <td>    0.0489</td> <td>    0.179</td> <td>    0.273</td> <td> 0.786</td> <td>   -0.309</td> <td>    0.407</td>\n",
              "</tr>\n",
              "</table>\n",
              "<table class=\"simpletable\">\n",
              "<tr>\n",
              "  <th>Omnibus:</th>       <td> 0.108</td> <th>  Durbin-Watson:     </th> <td>   1.780</td>\n",
              "</tr>\n",
              "<tr>\n",
              "  <th>Prob(Omnibus):</th> <td> 0.947</td> <th>  Jarque-Bera (JB):  </th> <td>   0.168</td>\n",
              "</tr>\n",
              "<tr>\n",
              "  <th>Skew:</th>          <td>-0.083</td> <th>  Prob(JB):          </th> <td>   0.920</td>\n",
              "</tr>\n",
              "<tr>\n",
              "  <th>Kurtosis:</th>      <td> 2.850</td> <th>  Cond. No.          </th> <td>    2.55</td>\n",
              "</tr>\n",
              "</table><br/><br/>Notes:<br/>[1] Standard Errors assume that the covariance matrix of the errors is correctly specified."
            ],
            "text/latex": "\\begin{center}\n\\begin{tabular}{lclc}\n\\toprule\n\\textbf{Dep. Variable:}    &        y         & \\textbf{  R-squared:         } &     0.986   \\\\\n\\textbf{Model:}            &       OLS        & \\textbf{  Adj. R-squared:    } &     0.982   \\\\\n\\textbf{Method:}           &  Least Squares   & \\textbf{  F-statistic:       } &     293.7   \\\\\n\\textbf{Date:}             & Mon, 07 Oct 2024 & \\textbf{  Prob (F-statistic):} &  5.90e-53   \\\\\n\\textbf{Time:}             &     17:41:31     & \\textbf{  Log-Likelihood:    } &   -128.83   \\\\\n\\textbf{No. Observations:} &          80      & \\textbf{  AIC:               } &     289.7   \\\\\n\\textbf{Df Residuals:}     &          64      & \\textbf{  BIC:               } &     327.8   \\\\\n\\textbf{Df Model:}         &          15      & \\textbf{                     } &             \\\\\n\\textbf{Covariance Type:}  &    nonrobust     & \\textbf{                     } &             \\\\\n\\bottomrule\n\\end{tabular}\n\\begin{tabular}{lcccccc}\n               & \\textbf{coef} & \\textbf{std err} & \\textbf{t} & \\textbf{P$> |$t$|$} & \\textbf{[0.025} & \\textbf{0.975]}  \\\\\n\\midrule\n\\textbf{const} &       0.2421  &        0.162     &     1.495  &         0.140        &       -0.081    &        0.566     \\\\\n\\textbf{v10}   &       5.0883  &        0.182     &    28.009  &         0.000        &        4.725    &        5.451     \\\\\n\\textbf{v7}    &       3.5008  &        0.171     &    20.424  &         0.000        &        3.158    &        3.843     \\\\\n\\textbf{v9}    &       4.3660  &        0.165     &    26.512  &         0.000        &        4.037    &        4.695     \\\\\n\\textbf{v8}    &       4.0268  &        0.140     &    28.815  &         0.000        &        3.748    &        4.306     \\\\\n\\textbf{v6}    &       2.9034  &        0.183     &    15.860  &         0.000        &        2.538    &        3.269     \\\\\n\\textbf{v24}   &       0.3898  &        0.201     &     1.939  &         0.057        &       -0.012    &        0.791     \\\\\n\\textbf{v5}    &       2.2002  &        0.192     &    11.485  &         0.000        &        1.818    &        2.583     \\\\\n\\textbf{v4}    &       1.9252  &        0.187     &    10.299  &         0.000        &        1.552    &        2.299     \\\\\n\\textbf{v42}   &       0.1608  &        0.158     &     1.018  &         0.313        &       -0.155    &        0.476     \\\\\n\\textbf{v3}    &       1.6664  &        0.163     &    10.201  &         0.000        &        1.340    &        1.993     \\\\\n\\textbf{v70}   &       0.1470  &        0.178     &     0.824  &         0.413        &       -0.210    &        0.503     \\\\\n\\textbf{v46}   &      -0.3965  &        0.165     &    -2.406  &         0.019        &       -0.726    &       -0.067     \\\\\n\\textbf{v61}   &      -0.0417  &        0.165     &    -0.254  &         0.801        &       -0.371    &        0.287     \\\\\n\\textbf{v36}   &       0.3716  &        0.173     &     2.152  &         0.035        &        0.027    &        0.717     \\\\\n\\textbf{v32}   &       0.0489  &        0.179     &     0.273  &         0.786        &       -0.309    &        0.407     \\\\\n\\bottomrule\n\\end{tabular}\n\\begin{tabular}{lclc}\n\\textbf{Omnibus:}       &  0.108 & \\textbf{  Durbin-Watson:     } &    1.780  \\\\\n\\textbf{Prob(Omnibus):} &  0.947 & \\textbf{  Jarque-Bera (JB):  } &    0.168  \\\\\n\\textbf{Skew:}          & -0.083 & \\textbf{  Prob(JB):          } &    0.920  \\\\\n\\textbf{Kurtosis:}      &  2.850 & \\textbf{  Cond. No.          } &     2.55  \\\\\n\\bottomrule\n\\end{tabular}\n%\\caption{OLS Regression Results}\n\\end{center}\n\nNotes: \\newline\n [1] Standard Errors assume that the covariance matrix of the errors is correctly specified."
          },
          "metadata": {},
          "execution_count": 18
        }
      ]
    },
    {
      "cell_type": "code",
      "source": [
        "# Run Double Assurance procedure\n",
        "sda = SubsampDoubleAssurance(m=1000)\n",
        "results = sda.double_assurance(X, y, s0=26, T=0.9, I_max=20, init_range=0.3, r=0.75)"
      ],
      "metadata": {
        "colab": {
          "base_uri": "https://localhost:8080/"
        },
        "id": "E5kURfxlUckC",
        "outputId": "f71fa68c-ed5e-42b6-e729-ed956fd307b3"
      },
      "execution_count": null,
      "outputs": [
        {
          "output_type": "stream",
          "name": "stdout",
          "text": [
            "Stability threshold reached. Terminating at iteration 6.\n",
            "\n",
            "Final Results:\n",
            "Best subsample size (s0): 30\n",
            "Best stability score: 1.0000\n",
            "Final range: s1 = 27, s0 = 30, s2 = 33\n",
            "Number of features in stabilized union set: 9\n",
            "Final selected features: {1, 2, 3, 4, 5, 6, 7, 8, 9}\n"
          ]
        }
      ]
    }
  ]
}