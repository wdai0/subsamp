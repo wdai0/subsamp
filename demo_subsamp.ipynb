{
  "nbformat": 4,
  "nbformat_minor": 0,
  "metadata": {
    "colab": {
      "provenance": [],
      "authorship_tag": "ABX9TyOk5sknWHEApkDl4hkBVf9H",
      "include_colab_link": true
    },
    "kernelspec": {
      "name": "python3",
      "display_name": "Python 3"
    },
    "language_info": {
      "name": "python"
    }
  },
  "cells": [
    {
      "cell_type": "markdown",
      "metadata": {
        "id": "view-in-github",
        "colab_type": "text"
      },
      "source": [
        "<a href=\"https://colab.research.google.com/github/wdai0/subsamp/blob/main/demo_subsamp.ipynb\" target=\"_parent\"><img src=\"https://colab.research.google.com/assets/colab-badge.svg\" alt=\"Open In Colab\"/></a>"
      ]
    },
    {
      "cell_type": "markdown",
      "source": [
        "# Package: subsampwinner"
      ],
      "metadata": {
        "id": "2NW-KMf0GlkD"
      }
    },
    {
      "cell_type": "code",
      "source": [
        "!pip list | grep subsampwinner"
      ],
      "metadata": {
        "colab": {
          "base_uri": "https://localhost:8080/"
        },
        "id": "A9zay657H03y",
        "outputId": "91ad85f7-17ed-400d-9ff0-b4599c339489"
      },
      "execution_count": null,
      "outputs": [
        {
          "output_type": "stream",
          "name": "stdout",
          "text": [
            "subsampwinner                    0.0.6\n"
          ]
        }
      ]
    },
    {
      "cell_type": "code",
      "source": [
        "# uninstall and reinstall subsampwinner\n",
        "!pip uninstall subsampwinner\n",
        "!pip install subsampwinner"
      ],
      "metadata": {
        "id": "7f4iIY6BTGcz"
      },
      "execution_count": null,
      "outputs": []
    },
    {
      "cell_type": "code",
      "source": [
        "import subsampwinner"
      ],
      "metadata": {
        "id": "_152VCVPTOXL"
      },
      "execution_count": null,
      "outputs": []
    },
    {
      "cell_type": "code",
      "source": [
        "import numpy as np\n",
        "from subsampwinner.subsamp import subsamp\n",
        "from subsampwinner.SubsampDoubleAssurance import SubsampDoubleAssurance\n",
        "from subsampwinner.GenerateData import generate_heteroskedastic_data\n",
        "\n",
        "# Generate sample data\n",
        "n, p = 100, 80\n",
        "beta0 = np.array([0.5, 1, 1.5, 2, 2.5, 3, 3.5, 4, 4.5, 5])\n",
        "beta0_index = np.arange(len(beta0))\n",
        "beta = np.zeros(p)\n",
        "beta[beta0_index] = beta0\n",
        "gamma = np.zeros(p)\n",
        "\n",
        "X, y, _, _ = generate_heteroskedastic_data(n, p, hetero_func=lambda x: 3,\n",
        "    beta=beta, gamma=gamma, type='diagonal')\n",
        "\n",
        "# Initialize and run SWA\n",
        "swa = subsamp(s=20, m=1000, qnum=15)\n",
        "swa.fit(X, y)\n",
        "\n",
        "print(\"Selected features:\", swa.finalists)"
      ],
      "metadata": {
        "id": "Gq7fbUB7G1P0",
        "colab": {
          "base_uri": "https://localhost:8080/"
        },
        "outputId": "8019e84c-9a54-4619-8c54-50aa83b0aa2f"
      },
      "execution_count": null,
      "outputs": [
        {
          "output_type": "stream",
          "name": "stdout",
          "text": [
            "Selected features: [9, 8, 6, 7, 5, 2, 4]\n"
          ]
        }
      ]
    },
    {
      "cell_type": "code",
      "source": [
        "# Run Double Assurance procedure\n",
        "sda = SubsampDoubleAssurance(m=1000)\n",
        "results = sda.double_assurance(X, y, s0=26, T=0.9, I_max=20, init_range=0.3, r=0.75)"
      ],
      "metadata": {
        "colab": {
          "base_uri": "https://localhost:8080/"
        },
        "id": "E5kURfxlUckC",
        "outputId": "f71fa68c-ed5e-42b6-e729-ed956fd307b3"
      },
      "execution_count": null,
      "outputs": [
        {
          "output_type": "stream",
          "name": "stdout",
          "text": [
            "Stability threshold reached. Terminating at iteration 6.\n",
            "\n",
            "Final Results:\n",
            "Best subsample size (s0): 30\n",
            "Best stability score: 1.0000\n",
            "Final range: s1 = 27, s0 = 30, s2 = 33\n",
            "Number of features in stabilized union set: 9\n",
            "Final selected features: {1, 2, 3, 4, 5, 6, 7, 8, 9}\n"
          ]
        }
      ]
    }
  ]
}